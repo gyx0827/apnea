{
 "cells": [
  {
   "cell_type": "code",
   "execution_count": 1,
   "metadata": {},
   "outputs": [],
   "source": [
    "import wfdb\n",
    "import matplotlib.pyplot as plt\n",
    "import numpy as np\n",
    "from hrv.filters import quotient, moving_median\n",
    "from scipy import interpolate\n",
    "from tqdm import tqdm\n",
    "import os\n",
    "FS = 100.0"
   ]
  },
  {
   "cell_type": "code",
   "execution_count": 2,
   "metadata": {},
   "outputs": [],
   "source": [
    "#看rii的时间长度\n",
    "def create_time_info(rri):\n",
    "    rri_time = np.cumsum(rri) / 1000.0  # make it seconds\n",
    "    return rri_time - rri_time[0]   # force it to start at zero\n",
    "\n",
    "#创造插值时间的range\n",
    "def create_interp_time(rri, fs):\n",
    "    time_rri = create_time_info(rri)\n",
    "    return np.arange(0, time_rri[-1], 1 / float(fs))\n",
    "\n",
    "#找到一维曲线的B样条曲线表示。给定数据点集，确定区间上度k的平滑样条近似\n",
    "def interp_cubic_spline(rri, fs):\n",
    "    time_rri = create_time_info(rri)\n",
    "    time_rri_interp = create_interp_time(rri, fs)\n",
    "    tck = interpolate.splrep(time_rri, rri, s=0)\n",
    "    rri_interp = interpolate.splev(time_rri_interp, tck, der=0)\n",
    "    return time_rri_interp, rri_interp\n",
    "\n",
    "#招到qrs波群的三次插入取样\n",
    "def interp_cubic_spline_qrs(qrs_index, qrs_amp, fs):\n",
    "    time_qrs = qrs_index / float(FS)\n",
    "    time_qrs = time_qrs - time_qrs[0]\n",
    "    time_qrs_interp = np.arange(0, time_qrs[-1], 1/float(fs))\n",
    "    tck = interpolate.splrep(time_qrs, qrs_amp, s=0)\n",
    "    qrs_interp = interpolate.splev(time_qrs_interp, tck, der=0)\n",
    "    return time_qrs_interp, qrs_interp\n"
   ]
  },
  {
   "cell_type": "code",
   "execution_count": 3,
   "metadata": {},
   "outputs": [],
   "source": [
    "data_path = 'D:/ML/Ipy/data/apnea/apnea-ecg/'"
   ]
  },
  {
   "cell_type": "code",
   "execution_count": 4,
   "metadata": {},
   "outputs": [],
   "source": [
    "train_data_name = ['a01', 'a02', 'a03', 'a04', 'a05',\n",
    "             'a06', 'a07', 'a08', 'a09', 'a10',\n",
    "             'a11', 'a12', 'a13', 'a14', 'a15',\n",
    "             'a16', 'a17', 'a18', 'a19',\n",
    "             'b01', 'b02', 'b03', 'b04',\n",
    "             'c01', 'c02', 'c03', 'c04', 'c05',\n",
    "             'c06', 'c07', 'c08', 'c09',\n",
    "             ]\n",
    "test_data_name = ['a20','b05','c10']"
   ]
  },
  {
   "cell_type": "code",
   "execution_count": 5,
   "metadata": {},
   "outputs": [],
   "source": [
    "age = [51, 38, 54, 52, 58,\n",
    "       63, 44, 51, 52, 58,\n",
    "       58, 52, 51, 51, 60,\n",
    "       44, 40, 52, 55, 58,\n",
    "       44, 53, 53, 42, 52,\n",
    "       31, 37, 39, 41, 28,\n",
    "       28, 30, 42, 37, 27]"
   ]
  },
  {
   "cell_type": "code",
   "execution_count": 6,
   "metadata": {},
   "outputs": [],
   "source": [
    "sex = [1, 1, 1, 1, 1,\n",
    "       1, 1, 1, 1, 1,\n",
    "       1, 1, 1, 1, 1,\n",
    "       1, 1, 1, 1, 1,\n",
    "       0, 1, 1, 1, 1,\n",
    "       1, 1, 1, 0, 0,\n",
    "       0, 0, 1, 1, 1]"
   ]
  },
  {
   "cell_type": "code",
   "execution_count": 7,
   "metadata": {},
   "outputs": [],
   "source": [
    "#获得当前每个qrs的最大amp\n",
    "def get_qrs_amp(ecg, qrs):\n",
    "    interval = int(FS * 0.250)\n",
    "    qrs_amp = []\n",
    "    for index in range(len(qrs)):\n",
    "        curr_qrs = qrs[index]\n",
    "        amp = np.max(ecg[curr_qrs-interval:curr_qrs+interval])\n",
    "        qrs_amp.append(amp)\n",
    "\n",
    "    return qrs_amp"
   ]
  },
  {
   "cell_type": "code",
   "execution_count": 8,
   "metadata": {},
   "outputs": [],
   "source": [
    "MARGIN = 10\n",
    "FS_INTP = 4\n",
    "MAX_HR = 300.0\n",
    "MIN_HR = 20.0\n",
    "MIN_RRI = 1.0 / (MAX_HR / 60.0) * 1000\n",
    "MAX_RRI = 1.0 / (MIN_HR / 60.0) * 1000\n",
    "train_input_array = []\n",
    "train_label_array = []\n"
   ]
  },
  {
   "cell_type": "code",
   "execution_count": 9,
   "metadata": {},
   "outputs": [
    {
     "name": "stdout",
     "output_type": "stream",
     "text": [
      "a01\n"
     ]
    },
    {
     "name": "stderr",
     "output_type": "stream",
     "text": [
      "100%|████████████████████████████████████████████████████████████████████████████████| 488/488 [02:37<00:00,  1.73it/s]\n"
     ]
    },
    {
     "name": "stdout",
     "output_type": "stream",
     "text": [
      "a02\n"
     ]
    },
    {
     "name": "stderr",
     "output_type": "stream",
     "text": [
      "100%|████████████████████████████████████████████████████████████████████████████████| 527/527 [03:11<00:00,  1.44it/s]\n"
     ]
    },
    {
     "name": "stdout",
     "output_type": "stream",
     "text": [
      "a03\n"
     ]
    },
    {
     "name": "stderr",
     "output_type": "stream",
     "text": [
      "100%|████████████████████████████████████████████████████████████████████████████████| 518/518 [02:55<00:00,  1.52it/s]\n"
     ]
    },
    {
     "name": "stdout",
     "output_type": "stream",
     "text": [
      "a04\n"
     ]
    },
    {
     "name": "stderr",
     "output_type": "stream",
     "text": [
      "100%|████████████████████████████████████████████████████████████████████████████████| 491/491 [02:36<00:00,  1.72it/s]\n"
     ]
    },
    {
     "name": "stdout",
     "output_type": "stream",
     "text": [
      "a05\n"
     ]
    },
    {
     "name": "stderr",
     "output_type": "stream",
     "text": [
      "100%|████████████████████████████████████████████████████████████████████████████████| 453/453 [02:10<00:00,  1.76it/s]\n"
     ]
    },
    {
     "name": "stdout",
     "output_type": "stream",
     "text": [
      "a06\n"
     ]
    },
    {
     "name": "stderr",
     "output_type": "stream",
     "text": [
      "100%|████████████████████████████████████████████████████████████████████████████████| 509/509 [02:24<00:00,  1.91it/s]\n"
     ]
    },
    {
     "name": "stdout",
     "output_type": "stream",
     "text": [
      "a07\n"
     ]
    },
    {
     "name": "stderr",
     "output_type": "stream",
     "text": [
      "100%|████████████████████████████████████████████████████████████████████████████████| 510/510 [03:05<00:00,  1.42it/s]\n"
     ]
    },
    {
     "name": "stdout",
     "output_type": "stream",
     "text": [
      "a08\n"
     ]
    },
    {
     "name": "stderr",
     "output_type": "stream",
     "text": [
      "100%|████████████████████████████████████████████████████████████████████████████████| 500/500 [03:11<00:00,  1.38it/s]\n"
     ]
    },
    {
     "name": "stdout",
     "output_type": "stream",
     "text": [
      "a09\n"
     ]
    },
    {
     "name": "stderr",
     "output_type": "stream",
     "text": [
      "100%|████████████████████████████████████████████████████████████████████████████████| 494/494 [02:20<00:00,  1.84it/s]\n"
     ]
    },
    {
     "name": "stdout",
     "output_type": "stream",
     "text": [
      "a10\n"
     ]
    },
    {
     "name": "stderr",
     "output_type": "stream",
     "text": [
      "100%|████████████████████████████████████████████████████████████████████████████████| 516/516 [02:32<00:00,  1.76it/s]\n"
     ]
    },
    {
     "name": "stdout",
     "output_type": "stream",
     "text": [
      "a11\n"
     ]
    },
    {
     "name": "stderr",
     "output_type": "stream",
     "text": [
      "100%|████████████████████████████████████████████████████████████████████████████████| 465/465 [02:21<00:00,  1.77it/s]\n"
     ]
    },
    {
     "name": "stdout",
     "output_type": "stream",
     "text": [
      "a12\n"
     ]
    },
    {
     "name": "stderr",
     "output_type": "stream",
     "text": [
      "100%|████████████████████████████████████████████████████████████████████████████████| 576/576 [03:06<00:00,  1.65it/s]\n"
     ]
    },
    {
     "name": "stdout",
     "output_type": "stream",
     "text": [
      "a13\n"
     ]
    },
    {
     "name": "stderr",
     "output_type": "stream",
     "text": [
      "100%|████████████████████████████████████████████████████████████████████████████████| 494/494 [03:00<00:00,  1.42it/s]\n"
     ]
    },
    {
     "name": "stdout",
     "output_type": "stream",
     "text": [
      "a14\n"
     ]
    },
    {
     "name": "stderr",
     "output_type": "stream",
     "text": [
      "100%|████████████████████████████████████████████████████████████████████████████████| 508/508 [02:07<00:00,  2.05it/s]\n"
     ]
    },
    {
     "name": "stdout",
     "output_type": "stream",
     "text": [
      "a15\n"
     ]
    },
    {
     "name": "stderr",
     "output_type": "stream",
     "text": [
      "100%|████████████████████████████████████████████████████████████████████████████████| 509/509 [02:31<00:00,  1.69it/s]\n"
     ]
    },
    {
     "name": "stdout",
     "output_type": "stream",
     "text": [
      "a16\n"
     ]
    },
    {
     "name": "stderr",
     "output_type": "stream",
     "text": [
      "100%|████████████████████████████████████████████████████████████████████████████████| 481/481 [02:30<00:00,  1.67it/s]\n"
     ]
    },
    {
     "name": "stdout",
     "output_type": "stream",
     "text": [
      "a17\n"
     ]
    },
    {
     "name": "stderr",
     "output_type": "stream",
     "text": [
      "100%|████████████████████████████████████████████████████████████████████████████████| 484/484 [02:41<00:00,  1.59it/s]\n"
     ]
    },
    {
     "name": "stdout",
     "output_type": "stream",
     "text": [
      "a18\n"
     ]
    },
    {
     "name": "stderr",
     "output_type": "stream",
     "text": [
      "100%|████████████████████████████████████████████████████████████████████████████████| 488/488 [02:14<00:00,  1.86it/s]\n"
     ]
    },
    {
     "name": "stdout",
     "output_type": "stream",
     "text": [
      "a19\n"
     ]
    },
    {
     "name": "stderr",
     "output_type": "stream",
     "text": [
      "100%|████████████████████████████████████████████████████████████████████████████████| 501/501 [02:57<00:00,  1.49it/s]\n"
     ]
    },
    {
     "name": "stdout",
     "output_type": "stream",
     "text": [
      "b01\n"
     ]
    },
    {
     "name": "stderr",
     "output_type": "stream",
     "text": [
      "100%|████████████████████████████████████████████████████████████████████████████████| 486/486 [02:34<00:00,  1.58it/s]\n"
     ]
    },
    {
     "name": "stdout",
     "output_type": "stream",
     "text": [
      "b02\n"
     ]
    },
    {
     "name": "stderr",
     "output_type": "stream",
     "text": [
      "100%|████████████████████████████████████████████████████████████████████████████████| 516/516 [02:46<00:00,  1.62it/s]\n"
     ]
    },
    {
     "name": "stdout",
     "output_type": "stream",
     "text": [
      "b03\n"
     ]
    },
    {
     "name": "stderr",
     "output_type": "stream",
     "text": [
      "100%|████████████████████████████████████████████████████████████████████████████████| 440/440 [01:57<00:00,  1.99it/s]\n"
     ]
    },
    {
     "name": "stdout",
     "output_type": "stream",
     "text": [
      "b04\n"
     ]
    },
    {
     "name": "stderr",
     "output_type": "stream",
     "text": [
      "100%|████████████████████████████████████████████████████████████████████████████████| 428/428 [01:40<00:00,  2.23it/s]\n"
     ]
    },
    {
     "name": "stdout",
     "output_type": "stream",
     "text": [
      "c01\n"
     ]
    },
    {
     "name": "stderr",
     "output_type": "stream",
     "text": [
      "100%|████████████████████████████████████████████████████████████████████████████████| 483/483 [02:02<00:00,  1.96it/s]\n"
     ]
    },
    {
     "name": "stdout",
     "output_type": "stream",
     "text": [
      "c02\n"
     ]
    },
    {
     "name": "stderr",
     "output_type": "stream",
     "text": [
      "100%|████████████████████████████████████████████████████████████████████████████████| 501/501 [02:25<00:00,  1.79it/s]\n"
     ]
    },
    {
     "name": "stdout",
     "output_type": "stream",
     "text": [
      "c03\n"
     ]
    },
    {
     "name": "stderr",
     "output_type": "stream",
     "text": [
      "100%|████████████████████████████████████████████████████████████████████████████████| 453/453 [01:40<00:00,  2.37it/s]\n"
     ]
    },
    {
     "name": "stdout",
     "output_type": "stream",
     "text": [
      "c04\n"
     ]
    },
    {
     "name": "stderr",
     "output_type": "stream",
     "text": [
      "100%|████████████████████████████████████████████████████████████████████████████████| 481/481 [02:04<00:00,  1.96it/s]\n"
     ]
    },
    {
     "name": "stdout",
     "output_type": "stream",
     "text": [
      "c05\n"
     ]
    },
    {
     "name": "stderr",
     "output_type": "stream",
     "text": [
      "100%|████████████████████████████████████████████████████████████████████████████████| 465/465 [01:59<00:00,  2.08it/s]\n"
     ]
    },
    {
     "name": "stdout",
     "output_type": "stream",
     "text": [
      "c06\n"
     ]
    },
    {
     "name": "stderr",
     "output_type": "stream",
     "text": [
      "100%|████████████████████████████████████████████████████████████████████████████████| 467/467 [02:01<00:00,  1.97it/s]\n"
     ]
    },
    {
     "name": "stdout",
     "output_type": "stream",
     "text": [
      "c07\n"
     ]
    },
    {
     "name": "stderr",
     "output_type": "stream",
     "text": [
      "100%|████████████████████████████████████████████████████████████████████████████████| 428/428 [02:07<00:00,  1.83it/s]\n"
     ]
    },
    {
     "name": "stdout",
     "output_type": "stream",
     "text": [
      "c08\n"
     ]
    },
    {
     "name": "stderr",
     "output_type": "stream",
     "text": [
      "100%|████████████████████████████████████████████████████████████████████████████████| 512/512 [02:27<00:00,  1.82it/s]\n"
     ]
    },
    {
     "name": "stdout",
     "output_type": "stream",
     "text": [
      "c09\n"
     ]
    },
    {
     "name": "stderr",
     "output_type": "stream",
     "text": [
      "100%|████████████████████████████████████████████████████████████████████████████████| 467/467 [02:12<00:00,  1.80it/s]\n"
     ]
    }
   ],
   "source": [
    "for data_index in range(len(train_data_name)):\n",
    "    print (train_data_name[data_index])\n",
    "    win_num = len(wfdb.rdann(os.path.join(data_path,train_data_name[data_index]), 'apn').symbol)\n",
    "    signals, fields = wfdb.rdsamp(os.path.join(data_path,train_data_name[data_index]))\n",
    "    for index in tqdm(range(1, win_num)):\n",
    "        samp_from = index * 60 * FS # 60 seconds\n",
    "        samp_to = samp_from + 60 * FS  # 60 seconds\n",
    "\n",
    "#rdann -a 注释名 -r 记录名 -f 记录起始时间 -t 记录终止时间 -p 选定的要打印的注释类型（例如V代表室性早博，A代表房性早搏） > test.txt\n",
    "        qrs_ann = wfdb.rdann(data_path + train_data_name[data_index], 'qrs', sampfrom=samp_from - (MARGIN*100), sampto=samp_to + (MARGIN*100)).sample\n",
    "        apn_ann = wfdb.rdann(data_path + train_data_name[data_index], 'apn', sampfrom=samp_from, sampto=samp_to-1).symbol\n",
    "\n",
    "        qrs_amp = get_qrs_amp(signals, qrs_ann)\n",
    "\n",
    "        rri = np.diff(qrs_ann)\n",
    "        rri_ms = rri.astype('float') / FS * 1000.0\n",
    "        try:\n",
    "            rri_filt = moving_median(rri_ms)\n",
    "\n",
    "            if len(rri_filt) > 5 and (np.min(rri_filt) >= MIN_RRI and np.max(rri_filt) <= MAX_RRI):\n",
    "                time_intp, rri_intp = interp_cubic_spline(rri_filt, FS_INTP)\n",
    "                qrs_time_intp, qrs_intp = interp_cubic_spline_qrs(qrs_ann, qrs_amp, FS_INTP)\n",
    "                rri_intp = rri_intp[(time_intp >= MARGIN) & (time_intp < (60+MARGIN))]\n",
    "                qrs_intp = qrs_intp[(qrs_time_intp >= MARGIN) & (qrs_time_intp < (60 + MARGIN))]\n",
    "                #time_intp = time_intp[(time_intp >= MARGIN) & (time_intp < (60+MARGIN))]\n",
    "\n",
    "                if len(rri_intp) != (FS_INTP * 60):\n",
    "                    skip = 1\n",
    "                else:\n",
    "                    skip = 0\n",
    "\n",
    "                if skip == 0:\n",
    "                    rri_intp = rri_intp - np.mean(rri_intp)\n",
    "                    qrs_intp = qrs_intp - np.mean(qrs_intp)\n",
    "                    if apn_ann[0] == 'N': # Normal\n",
    "                        label = 0.0\n",
    "                    elif apn_ann[0] == 'A': # Apnea\n",
    "                        label = 1.0\n",
    "                    else:\n",
    "                        label = 2.0\n",
    "\n",
    "                    train_input_array.append([rri_intp, qrs_intp, age[data_index], sex[data_index]])\n",
    "                    train_label_array.append(label)\n",
    "        except:\n",
    "            hrv_module_error = 1"
   ]
  },
  {
   "cell_type": "code",
   "execution_count": 10,
   "metadata": {},
   "outputs": [],
   "source": [
    "np.save('D:/ML/Ipy/data/apnea/result/train_input.npy', train_input_array)\n",
    "np.save('D:/ML/Ipy/data/apnea/result/train_label.npy', train_label_array)"
   ]
  },
  {
   "cell_type": "code",
   "execution_count": 11,
   "metadata": {},
   "outputs": [],
   "source": [
    "test_input_array = []\n",
    "test_label_array = []"
   ]
  },
  {
   "cell_type": "code",
   "execution_count": 12,
   "metadata": {},
   "outputs": [
    {
     "name": "stdout",
     "output_type": "stream",
     "text": [
      "a20\n"
     ]
    },
    {
     "name": "stderr",
     "output_type": "stream",
     "text": [
      "100%|████████████████████████████████████████████████████████████████████████████████| 509/509 [02:40<00:00,  1.64it/s]\n"
     ]
    },
    {
     "name": "stdout",
     "output_type": "stream",
     "text": [
      "b05\n"
     ]
    },
    {
     "name": "stderr",
     "output_type": "stream",
     "text": [
      "100%|████████████████████████████████████████████████████████████████████████████████| 432/432 [01:57<00:00,  1.91it/s]\n"
     ]
    },
    {
     "name": "stdout",
     "output_type": "stream",
     "text": [
      "c10\n"
     ]
    },
    {
     "name": "stderr",
     "output_type": "stream",
     "text": [
      "100%|████████████████████████████████████████████████████████████████████████████████| 430/430 [01:34<00:00,  2.29it/s]\n"
     ]
    }
   ],
   "source": [
    "for data_index in range(len(test_data_name)):\n",
    "    print (test_data_name[data_index])\n",
    "    win_num = len(wfdb.rdann(os.path.join(data_path,test_data_name[data_index]), 'apn').symbol)\n",
    "    signals, fields = wfdb.rdsamp(os.path.join(data_path,test_data_name[data_index]))\n",
    "    for index in tqdm(range(1, win_num)):\n",
    "        samp_from = index * 60 * FS # 60 seconds\n",
    "        samp_to = samp_from + 60 * FS  # 60 seconds\n",
    "\n",
    "        qrs_ann = wfdb.rdann(data_path + test_data_name[data_index], 'qrs', sampfrom=samp_from - (MARGIN*100), sampto=samp_to + (MARGIN*100)).sample\n",
    "        apn_ann = wfdb.rdann(data_path + test_data_name[data_index], 'apn', sampfrom=samp_from, sampto=samp_to-1).symbol\n",
    "\n",
    "        qrs_amp = get_qrs_amp(signals, qrs_ann)\n",
    "\n",
    "        rri = np.diff(qrs_ann)\n",
    "        rri_ms = rri.astype('float') / FS * 1000.0\n",
    "        try:\n",
    "            rri_filt = moving_median(rri_ms)\n",
    "\n",
    "            if len(rri_filt) > 5 and (np.min(rri_filt) >= MIN_RRI and np.max(rri_filt) <= MAX_RRI):\n",
    "                time_intp, rri_intp = interp_cubic_spline(rri_filt, FS_INTP)\n",
    "                qrs_time_intp, qrs_intp = interp_cubic_spline_qrs(qrs_ann, qrs_amp, FS_INTP)\n",
    "                rri_intp = rri_intp[(time_intp >= MARGIN) & (time_intp < (60+MARGIN))]\n",
    "                qrs_intp = qrs_intp[(qrs_time_intp >= MARGIN) & (qrs_time_intp < (60 + MARGIN))]\n",
    "                #time_intp = time_intp[(time_intp >= MARGIN) & (time_intp < (60+MARGIN))]\n",
    "\n",
    "                if len(rri_intp) != (FS_INTP * 60):\n",
    "                    skip = 1\n",
    "                else:\n",
    "                    skip = 0\n",
    "\n",
    "                if skip == 0:\n",
    "                    rri_intp = rri_intp - np.mean(rri_intp)\n",
    "                    qrs_intp = qrs_intp - np.mean(qrs_intp)\n",
    "                    if apn_ann[0] == 'N': # Normal\n",
    "                        label = 0.0\n",
    "                    elif apn_ann[0] == 'A': # Apnea\n",
    "                        label = 1.0\n",
    "                    else:\n",
    "                        label = 2.0\n",
    "\n",
    "                    test_input_array.append([rri_intp, qrs_intp, age[data_index], sex[data_index]])\n",
    "                    test_label_array.append(label)\n",
    "        except:\n",
    "            hrv_module_error = 1"
   ]
  },
  {
   "cell_type": "code",
   "execution_count": 13,
   "metadata": {},
   "outputs": [],
   "source": [
    "np.save('D:/ML/Ipy/data/apnea/result/test_input.npy', test_input_array)\n",
    "np.save('D:/ML/Ipy/data/apnea/result/test_label.npy', test_label_array)"
   ]
  },
  {
   "cell_type": "raw",
   "metadata": {},
   "source": [
    "###### "
   ]
  },
  {
   "cell_type": "code",
   "execution_count": null,
   "metadata": {},
   "outputs": [],
   "source": []
  },
  {
   "cell_type": "code",
   "execution_count": 6,
   "metadata": {},
   "outputs": [
    {
     "name": "stderr",
     "output_type": "stream",
     "text": [
      "'wget' 不是内部或外部命令，也不是可运行的程序\n",
      "或批处理文件。\n"
     ]
    }
   ],
   "source": [
    "wget -r -np http://www.physionet.org/physiobank/database/apnea-ecg/"
   ]
  }
 ],
 "metadata": {
  "kernelspec": {
   "display_name": "Python 3",
   "language": "python",
   "name": "python3"
  },
  "language_info": {
   "codemirror_mode": {
    "name": "ipython",
    "version": 3
   },
   "file_extension": ".py",
   "mimetype": "text/x-python",
   "name": "python",
   "nbconvert_exporter": "python",
   "pygments_lexer": "ipython3",
   "version": "3.7.3"
  }
 },
 "nbformat": 4,
 "nbformat_minor": 2
}
